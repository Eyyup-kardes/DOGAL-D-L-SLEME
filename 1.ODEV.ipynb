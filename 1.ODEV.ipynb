{
 "cells": [
  {
   "cell_type": "code",
   "execution_count": null,
   "metadata": {},
   "outputs": [],
   "source": [
    "# Makine Öğrenmesi Algoritmaları ve Bir Uygulama Örneği \n",
    "\n",
    "\n",
    "# Makine öğrenmesi, bilgisayarların veri içindeki kalıpları otomatik olarak öğrenerek tahminler yapmasını veya kararlar almasını sağlayan bir yapay zeka dalıdır.\n",
    "# Bu süreçte, algoritmalar dediğimiz matematiksel modeller, verileri analiz ederek belirli görevleri yerine getirmek için eğitilirler.\n",
    "\n",
    "# Yaygın Makine Öğrenmesi Algoritma Türleri\n",
    "\n",
    "# •\tDenetimli Öğrenme: Veri setindeki girdi ve çıktı örnekleri kullanılarak bir model oluşturulur.\n",
    "# Bu model daha sonra yeni, etiketlenmemiş verilere uygulanarak tahminler yapılır.\n",
    "\n",
    "# o\tRegresyon: Sürekli bir değeri tahmin etmek için kullanılır (örneğin, bir evin fiyatını tahmin etmek).\n",
    "# o\tSınıflandırma: Verileri belirli sınıflara ayırmak için kullanılır (örneğin, bir e-postanın spam olup olmadığını belirlemek).\n",
    "\n",
    "# •\tDenetimsiz Öğrenme: Verilerde gizli yapıları ve kalıpları bulmak için kullanılır.\n",
    "# o\tKümeleme: Benzer özelliklere sahip verileri gruplara ayırmak (örneğin, müşteri segmentasyonu).\n",
    "\n",
    "# o\tBoyut Azaltma: Veri boyutunu düşürerek daha verimli analizler yapmak (örneğin, veri görselleştirme).\n",
    "\n",
    "# •\tTakviyeli Öğrenme: Bir ajan, bir ortamda eylemler yaparak ödüller veya cezalar alır ve bu deneyimlerden öğrenerek en iyi eylemleri seçmeyi amaçlar (örneğin, satranç oynamak).\n",
    "\n",
    "# Bir Algoritma Örneği: Lojistik Regresyon\n",
    "# Lojistik regresyon, bir olayın gerçekleşme olasılığını tahmin etmek için kullanılan sık kullanılan bir sınıflandırma algoritmasıdır.\n",
    "# Örneğin, bir e-postanın spam olup olmadığını belirlemek için kullanılabilir.\n",
    "\n",
    "# •\tNasıl Çalışır: Lojistik regresyon, girdi verilerini bir lojistik fonksiyon kullanarak 0 ile 1 arasında bir olasılık değerine dönüştürür.\n",
    "\n",
    "# Bu değer, örneğin 0.8 ise, olayın (%80 olasılıkla) gerçekleşeceği anlamına gelir.\n",
    "# •\tUygulama Alanları: Spam filtreleme, kredi risk analizi, hastalık teşhisi gibi birçok alanda kullanılır.\n"
   ]
  },
  {
   "cell_type": "code",
   "execution_count": null,
   "metadata": {},
   "outputs": [],
   "source": [
    "import pandas as pd\n",
    "from bs4 import BeautifulSoup\n",
    "from tqdm import tqdm\n",
    "tqdm.pandas()\n",
    "import numpy as np\n",
    "import nltk\n",
    "from nltk.tokenize import sent_tokenize\n",
    "from nltk import tokenize\n",
    "\n",
    "\n",
    "import numpy as np\n",
    "import pandas as pd\n",
    "import matplotlib.pyplot as plt\n",
    "import seaborn as sns\n",
    "import string\n",
    "import re\n",
    "import nltk\n",
    "\n",
    "from tqdm import trange\n",
    "from nltk import tokenize\n",
    "from nltk.corpus import stopwords\n",
    "from nltk.stem import WordNetLemmatizer\n",
    "from nltk.probability import FreqDist\n",
    "from collections import Counter\n",
    "from sklearn.feature_extraction.text import CountVectorizer"
   ]
  },
  {
   "cell_type": "code",
   "execution_count": 1,
   "metadata": {},
   "outputs": [
    {
     "name": "stdout",
     "output_type": "stream",
     "text": [
      "Test Seti için Gerçek Fiyatlar: [400000]\n",
      "Tahmin Edilen Fiyatlar: [379315.96091205]\n",
      "Ortalama Kare Hata (MSE): 427829472.99175274\n",
      "R^2 Skoru: nan\n"
     ]
    },
    {
     "name": "stderr",
     "output_type": "stream",
     "text": [
      "c:\\Users\\Pc\\anaconda3\\lib\\site-packages\\sklearn\\metrics\\_regression.py:594: UndefinedMetricWarning: R^2 score is not well-defined with less than two samples.\n",
      "  warnings.warn(msg, UndefinedMetricWarning)\n"
     ]
    },
    {
     "data": {
      "image/png": "[encoded data removed]",
      "text/plain": [
       "<Figure size 432x288 with 1 Axes>"
      ]
     },
     "metadata": {
      "needs_background": "light"
     },
     "output_type": "display_data"
    }
   ],
   "source": [
    "#REGRASYON MODELİ OLUŞTURMA \n",
    "\n",
    "import numpy as np\n",
    "import pandas as pd\n",
    "import matplotlib.pyplot as plt\n",
    "from sklearn.model_selection import train_test_split\n",
    "from sklearn.linear_model import LinearRegression\n",
    "from sklearn.metrics import mean_squared_error, r2_score\n",
    "\n",
    "# Veri setini oluşturma\n",
    "data = {\n",
    "    'Evin Büyüklüğü (m²)': [80, 100, 120, 150, 200],\n",
    "    'Oda Sayısı': [2, 3, 3, 4, 4],\n",
    "    'Ev Yaşı (yıl)': [10, 5, 2, 1, 0],\n",
    "    'Fiyat (TL)': [300000, 400000, 450000, 600000, 800000]\n",
    "}\n",
    "\n",
    "df = pd.DataFrame(data)\n",
    "\n",
    "# Bağımsız ve bağımlı değişkenleri tanımlama\n",
    "X = df[['Evin Büyüklüğü (m²)']]  # Bağımsız değişken\n",
    "y = df['Fiyat (TL)']              # Bağımlı değişken\n",
    "\n",
    "# Veriyi eğitim ve test setlerine ayırma\n",
    "X_train, X_test, y_train, y_test = train_test_split(X, y, test_size=0.2, random_state=42)\n",
    "\n",
    "# Regresyon modelini oluşturma ve eğitme\n",
    "model = LinearRegression()\n",
    "model.fit(X_train, y_train)\n",
    "\n",
    "# Model ile tahmin yapma\n",
    "y_pred = model.predict(X_test)\n",
    "\n",
    "# Modelin performansını değerlendirme\n",
    "mse = mean_squared_error(y_test, y_pred)\n",
    "r2 = r2_score(y_test, y_pred)\n",
    "\n",
    "# Sonuçları yazdırma\n",
    "print(\"Test Seti için Gerçek Fiyatlar:\", y_test.values)\n",
    "print(\"Tahmin Edilen Fiyatlar:\", y_pred)\n",
    "print(\"Ortalama Kare Hata (MSE):\", mse)\n",
    "print(\"R^2 Skoru:\", r2)\n",
    "\n",
    "# Sonuçları görselleştirme\n",
    "plt.scatter(X, y, color='blue', label='Gerçek Veriler')\n",
    "plt.plot(X, model.predict(X), color='red', label='Regresyon Doğrusu')\n",
    "plt.xlabel('Evin Büyüklüğü (m²)')\n",
    "plt.ylabel('Fiyat (TL)')\n",
    "plt.title('Evin Büyüklüğüne Göre Fiyat Tahmini')\n",
    "plt.legend()\n",
    "plt.show()\n"
   ]
  },
  {
   "cell_type": "code",
   "execution_count": 2,
   "metadata": {},
   "outputs": [
    {
     "name": "stdout",
     "output_type": "stream",
     "text": [
      "   Evin Büyüklüğü (m²)  Oda Sayısı  Kişi Sayısı Tahmini\n",
      "0                   80           2                    4\n",
      "1                  100           3                    6\n",
      "2                  120           3                    6\n",
      "3                  150           4                    8\n",
      "4                  200           4                    8\n"
     ]
    }
   ],
   "source": [
    "import pandas as pd\n",
    "\n",
    "# Veri seti oluşturma\n",
    "data = {\n",
    "    'Evin Büyüklüğü (m²)': [80, 100, 120, 150, 200],\n",
    "    'Oda Sayısı': [2, 3, 3, 4, 4],\n",
    "    'Ev Yaşı (yıl)': [10, 5, 2, 1, 0],\n",
    "    'Fiyat (TL)': [300000, 400000, 450000, 600000, 800000]\n",
    "}\n",
    "\n",
    "# DataFrame oluşturma\n",
    "df = pd.DataFrame(data)\n",
    "\n",
    "# Eve kaç kişinin sığabileceğini tahmin etme (ortalama 2 kişi/oda)\n",
    "df['Kişi Sayısı Tahmini'] = df['Oda Sayısı'] * 2\n",
    "\n",
    "# Sonucu gösterme\n",
    "print(df[['Evin Büyüklüğü (m²)', 'Oda Sayısı', 'Kişi Sayısı Tahmini']])\n"
   ]
  },
  {
   "cell_type": "code",
   "execution_count": 3,
   "metadata": {},
   "outputs": [
    {
     "name": "stdout",
     "output_type": "stream",
     "text": [
      "   Evin Büyüklüğü (m²)  Fiyat (TL)  Kişi Sayısı Tahmini  M² Başına Fiyat (TL)\n",
      "0                   80      300000                    4                3750.0\n",
      "1                  100      400000                    6                4000.0\n",
      "2                  120      450000                    6                3750.0\n",
      "3                  150      600000                    8                4000.0\n",
      "4                  200      800000                    8                4000.0\n"
     ]
    }
   ],
   "source": [
    "import pandas as pd\n",
    "\n",
    "# Veri seti oluşturma\n",
    "data = {\n",
    "    'Evin Büyüklüğü (m²)': [80, 100, 120, 150, 200],\n",
    "    'Oda Sayısı': [2, 3, 3, 4, 4],\n",
    "    'Ev Yaşı (yıl)': [10, 5, 2, 1, 0],\n",
    "    'Fiyat (TL)': [300000, 400000, 450000, 600000, 800000]\n",
    "}\n",
    "\n",
    "# DataFrame oluşturma\n",
    "df = pd.DataFrame(data)\n",
    "\n",
    "# Eve kaç kişinin sığabileceğini tahmin etme (ortalama 2 kişi/oda)\n",
    "df['Kişi Sayısı Tahmini'] = df['Oda Sayısı'] * 2\n",
    "\n",
    "# M² başına fiyat tahmini\n",
    "df['M² Başına Fiyat (TL)'] = df['Fiyat (TL)'] / df['Evin Büyüklüğü (m²)']\n",
    "\n",
    "# Sonucu gösterme\n",
    "print(df[['Evin Büyüklüğü (m²)', 'Fiyat (TL)', 'Kişi Sayısı Tahmini', 'M² Başına Fiyat (TL)']])\n"
   ]
  },
  {
   "cell_type": "code",
   "execution_count": 5,
   "metadata": {},
   "outputs": [
    {
     "name": "stdout",
     "output_type": "stream",
     "text": [
      "   Evin Büyüklüğü (m²)  Oda Sayısı  Kişi Sayısı Tahmini\n",
      "0                   80           2                    4\n",
      "1                  100           3                    6\n",
      "2                  120           3                    6\n",
      "3                  150           4                    8\n",
      "4                  200           4                    8\n"
     ]
    }
   ],
   "source": [
    "import pandas as pd\n",
    "\n",
    "# Veri seti oluşturma\n",
    "data = {\n",
    "    'Evin Büyüklüğü (m²)': [80, 100, 120, 150, 200],\n",
    "    'Oda Sayısı': [2, 3, 3, 4, 4],\n",
    "    'Ev Yaşı (yıl)': [10, 5, 2, 1, 0],\n",
    "    'Fiyat (TL)': [300000, 400000, 450000, 600000, 800000]\n",
    "}\n",
    "\n",
    "# DataFrame oluşturma\n",
    "df = pd.DataFrame(data)\n",
    "\n",
    "# Oda başına ortalama 2 kişi sığacağını varsayıyoruz\n",
    "ortalama_kisi_sayisi = 2\n",
    "\n",
    "# Oda sayısına göre toplam kişi sayısını tahmin etme\n",
    "df['Kişi Sayısı Tahmini'] = df['Oda Sayısı'] * ortalama_kisi_sayisi\n",
    "\n",
    "# Sonucu gösterme\n",
    "print(df[['Evin Büyüklüğü (m²)', 'Oda Sayısı', 'Kişi Sayısı Tahmini']])\n"
   ]
  },
  {
   "cell_type": "code",
   "execution_count": 7,
   "metadata": {},
   "outputs": [
    {
     "data": {
      "image/png": "[encoded data removed]",
      "text/plain": [
       "<Figure size 720x432 with 1 Axes>"
      ]
     },
     "metadata": {
      "needs_background": "light"
     },
     "output_type": "display_data"
    }
   ],
   "source": [
    "import pandas as pd\n",
    "import matplotlib.pyplot as plt\n",
    "\n",
    "# Veri seti oluşturma\n",
    "data = {\n",
    "    'Evin Büyüklüğü (m²)': [80, 100, 120, 150, 200],\n",
    "    'Oda Sayısı': [2, 3, 3, 4, 4],\n",
    "    'Ev Yaşı (yıl)': [10, 5, 2, 1, 0],\n",
    "    'Fiyat (TL)': [300000, 400000, 450000, 600000, 800000]\n",
    "}\n",
    "\n",
    "# DataFrame oluşturma\n",
    "df = pd.DataFrame(data)\n",
    "\n",
    "# Ortalama ömür tahmini (yıl) - Bu tahmini özelleştirebilirsiniz\n",
    "ortalama_omur_tahmini = 50  # Örneğin, genel bir yapı ömrü olarak 50 yıl alalım\n",
    "\n",
    "# Her evin tahmin edilen ömrü\n",
    "df['Tahmin Edilen Ömür (yıl)'] = ortalama_omur_tahmini - df['Ev Yaşı (yıl)']\n",
    "\n",
    "# Verileri en yüksekten en aza sıralama\n",
    "df_sorted = df.sort_values(by='Tahmin Edilen Ömür (yıl)', ascending=False)\n",
    "\n",
    "# Grafik çizme\n",
    "plt.figure(figsize=(10, 6))\n",
    "plt.barh(df_sorted['Evin Büyüklüğü (m²)'], df_sorted['Tahmin Edilen Ömür (yıl)'], color='skyblue')\n",
    "plt.xlabel('Tahmin Edilen Ömür (yıl)')\n",
    "plt.ylabel('Evin Büyüklüğü (m²)')\n",
    "plt.title('Evin Büyüklüğüne Göre Tahmin Edilen Ömür')\n",
    "plt.grid(axis='x')\n",
    "\n",
    "# Grafiği gösterme\n",
    "plt.show()\n"
   ]
  },
  {
   "cell_type": "code",
   "execution_count": 8,
   "metadata": {},
   "outputs": [
    {
     "data": {
      "image/png": "[encoded data removed]",
      "text/plain": [
       "<Figure size 720x432 with 1 Axes>"
      ]
     },
     "metadata": {
      "needs_background": "light"
     },
     "output_type": "display_data"
    },
    {
     "name": "stdout",
     "output_type": "stream",
     "text": [
      "Evin Büyüklüğü: 80.0 m², Gerçek Fiyat: 300000.0 TL, Tahmin Edilen Fiyat: 302613.64 TL\n",
      "Evin Büyüklüğü: 100.0 m², Gerçek Fiyat: 400000.0 TL, Tahmin Edilen Fiyat: 385568.18 TL\n",
      "Evin Büyüklüğü: 120.0 m², Gerçek Fiyat: 450000.0 TL, Tahmin Edilen Fiyat: 468522.73 TL\n",
      "Evin Büyüklüğü: 150.0 m², Gerçek Fiyat: 600000.0 TL, Tahmin Edilen Fiyat: 592954.55 TL\n",
      "Evin Büyüklüğü: 200.0 m², Gerçek Fiyat: 800000.0 TL, Tahmin Edilen Fiyat: 800340.91 TL\n"
     ]
    }
   ],
   "source": [
    "import pandas as pd\n",
    "import numpy as np\n",
    "import matplotlib.pyplot as plt\n",
    "from sklearn.linear_model import LinearRegression\n",
    "\n",
    "# Veri seti oluşturma\n",
    "data = {\n",
    "    'Evin Büyüklüğü (m²)': [80, 100, 120, 150, 200],\n",
    "    'Fiyat (TL)': [300000, 400000, 450000, 600000, 800000]\n",
    "}\n",
    "\n",
    "# DataFrame oluşturma\n",
    "df = pd.DataFrame(data)\n",
    "\n",
    "# Girdi ve çıktı değişkenlerini tanımlama\n",
    "X = df[['Evin Büyüklüğü (m²)']]  # Özellikler (girdi)\n",
    "y = df['Fiyat (TL)']              # Hedef değişken (çıktı)\n",
    "\n",
    "# Modeli oluşturma ve eğitme\n",
    "model = LinearRegression()\n",
    "model.fit(X, y)\n",
    "\n",
    "# Fiyat tahmini\n",
    "df['Tahmin Edilen Fiyat'] = model.predict(X)\n",
    "\n",
    "# Grafik çizme\n",
    "plt.figure(figsize=(10, 6))\n",
    "plt.scatter(df['Evin Büyüklüğü (m²)'], df['Fiyat (TL)'], color='blue', label='Gerçek Fiyatlar')\n",
    "plt.plot(df['Evin Büyüklüğü (m²)'], df['Tahmin Edilen Fiyat'], color='red', label='Tahmin Edilen Fiyat', linewidth=2)\n",
    "\n",
    "# Grafik detayları\n",
    "plt.xlabel('Evin Büyüklüğü (m²)')\n",
    "plt.ylabel('Fiyat (TL)')\n",
    "plt.title('Evin Büyüklüğüne Göre Fiyat Artışı Tahmini')\n",
    "plt.legend()\n",
    "plt.grid()\n",
    "\n",
    "# Grafiği gösterme\n",
    "plt.show()\n",
    "\n",
    "# Evin büyüklüğüne göre fiyat artışını gösterme\n",
    "for index, row in df.iterrows():\n",
    "    print(f\"Evin Büyüklüğü: {row['Evin Büyüklüğü (m²)']} m², Gerçek Fiyat: {row['Fiyat (TL)']} TL, Tahmin Edilen Fiyat: {row['Tahmin Edilen Fiyat']:.2f} TL\")\n"
   ]
  }
 ],
 "metadata": {
  "kernelspec": {
   "display_name": "base",
   "language": "python",
   "name": "python3"
  },
  "language_info": {
   "codemirror_mode": {
    "name": "ipython",
    "version": 3
   },
   "file_extension": ".py",
   "mimetype": "text/x-python",
   "name": "python",
   "nbconvert_exporter": "python",
   "pygments_lexer": "ipython3",
   "version": "3.8.5"
  }
 },
 "nbformat": 4,
 "nbformat_minor": 2
}
